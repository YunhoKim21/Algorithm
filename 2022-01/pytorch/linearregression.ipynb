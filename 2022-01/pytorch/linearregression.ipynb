{
 "cells": [
  {
   "cell_type": "code",
   "execution_count": 36,
   "id": "3c6b110c",
   "metadata": {},
   "outputs": [],
   "source": [
    "import matplotlib.pyplot as plt"
   ]
  },
  {
   "cell_type": "code",
   "execution_count": 1,
   "id": "f4499a37",
   "metadata": {},
   "outputs": [],
   "source": [
    "import numpy as np"
   ]
  },
  {
   "cell_type": "code",
   "execution_count": 2,
   "id": "62645143",
   "metadata": {},
   "outputs": [],
   "source": [
    "import torch"
   ]
  },
  {
   "cell_type": "code",
   "execution_count": 31,
   "id": "0e78f557",
   "metadata": {},
   "outputs": [],
   "source": [
    "x = np.array([1, 2, 3, 4, 5, 6])\n",
    "y = np.array([1, 2, 3, 3.5, 5, 7])"
   ]
  },
  {
   "cell_type": "code",
   "execution_count": 10,
   "id": "50c9080c",
   "metadata": {},
   "outputs": [],
   "source": [
    "def loss(x, y, a, b):\n",
    "    return ((a * x + b - y) ** 2).sum()"
   ]
  },
  {
   "cell_type": "code",
   "execution_count": 11,
   "id": "4035b475",
   "metadata": {},
   "outputs": [
    {
     "name": "stdout",
     "output_type": "stream",
     "text": [
      "91\n"
     ]
    }
   ],
   "source": [
    "loss(x, y, 0, 0)"
   ]
  },
  {
   "cell_type": "code",
   "execution_count": 22,
   "id": "5d2887b0",
   "metadata": {},
   "outputs": [],
   "source": [
    "def grada(x, y, a, b):\n",
    "    return ((a * x + b - y) * x).mean()"
   ]
  },
  {
   "cell_type": "code",
   "execution_count": 13,
   "id": "a8e6e2c0",
   "metadata": {},
   "outputs": [
    {
     "data": {
      "text/plain": [
       "-91"
      ]
     },
     "execution_count": 13,
     "metadata": {},
     "output_type": "execute_result"
    }
   ],
   "source": [
    "grada(x, y, 0 , 0)"
   ]
  },
  {
   "cell_type": "code",
   "execution_count": 23,
   "id": "d44a51db",
   "metadata": {},
   "outputs": [],
   "source": [
    "def gradb(x, y, a, b):\n",
    "    return (a * x + b - y).mean()"
   ]
  },
  {
   "cell_type": "code",
   "execution_count": 16,
   "id": "70f169af",
   "metadata": {},
   "outputs": [
    {
     "data": {
      "text/plain": [
       "-21"
      ]
     },
     "execution_count": 16,
     "metadata": {},
     "output_type": "execute_result"
    }
   ],
   "source": [
    "gradb(x, y, 0, 0)"
   ]
  },
  {
   "cell_type": "code",
   "execution_count": 38,
   "id": "8c5ddc62",
   "metadata": {},
   "outputs": [],
   "source": [
    "def GD(x, y, lr=0.1):\n",
    "    a=0; b=0\n",
    "    for i in range(1000):\n",
    "        #print(a, b)\n",
    "        a -= lr * grada(x, y, a, b)\n",
    "        b -= lr * gradb(x, y, a, b)\n",
    "    return a, b"
   ]
  },
  {
   "cell_type": "code",
   "execution_count": 39,
   "id": "6692474b",
   "metadata": {},
   "outputs": [],
   "source": [
    "a, b = GD(x, y)"
   ]
  },
  {
   "cell_type": "code",
   "execution_count": 43,
   "id": "7f4edc9c",
   "metadata": {},
   "outputs": [
    {
     "data": {
      "text/plain": [
       "[<matplotlib.lines.Line2D at 0x12bd677f670>]"
      ]
     },
     "execution_count": 43,
     "metadata": {},
     "output_type": "execute_result"
    },
    {
     "data": {
      "image/png": "[encoded data removed]",
      "text/plain": [
       "<Figure size 432x288 with 1 Axes>"
      ]
     },
     "metadata": {
      "needs_background": "light"
     },
     "output_type": "display_data"
    }
   ],
   "source": [
    "plt.plot(x, y)\n",
    "plt.plot(x, a*x+b)"
   ]
  },
  {
   "cell_type": "code",
   "execution_count": 82,
   "id": "a33a1f19",
   "metadata": {},
   "outputs": [],
   "source": [
    "#second method\n",
    "A = np.array([[1.0, 1.], [2., 1.], [3., 1.], [4., 1.], [5., 1.], [6., 1.]])\n",
    "y = np.array([[1., 2., 3., 4., 5., 6.]]).transpose()\n",
    "x = np.array([[0., 0.]]).transpose()"
   ]
  },
  {
   "cell_type": "code",
   "execution_count": 67,
   "id": "01b61a56",
   "metadata": {},
   "outputs": [
    {
     "data": {
      "text/plain": [
       "array([[-1],\n",
       "       [-2],\n",
       "       [-3],\n",
       "       [-4],\n",
       "       [-5],\n",
       "       [-6]])"
      ]
     },
     "execution_count": 67,
     "metadata": {},
     "output_type": "execute_result"
    }
   ],
   "source": [
    "np.matmul(A, x) - y"
   ]
  },
  {
   "cell_type": "code",
   "execution_count": 77,
   "id": "7fa1aa35",
   "metadata": {},
   "outputs": [],
   "source": [
    "def grad(A, x, y):\n",
    "    return np.matmul(A.transpose(), (y - np.matmul(A,x)))/6"
   ]
  },
  {
   "cell_type": "code",
   "execution_count": 83,
   "id": "eb0f5552",
   "metadata": {},
   "outputs": [
    {
     "data": {
      "text/plain": [
       "array([[15.16666667],\n",
       "       [ 3.5       ]])"
      ]
     },
     "execution_count": 83,
     "metadata": {},
     "output_type": "execute_result"
    }
   ],
   "source": [
    "grad(A, x, y)"
   ]
  },
  {
   "cell_type": "code",
   "execution_count": 86,
   "id": "9f3d0fd5",
   "metadata": {},
   "outputs": [
    {
     "name": "stdout",
     "output_type": "stream",
     "text": [
      "[[0.99421943]\n",
      " [0.02474779]]\n"
     ]
    }
   ],
   "source": [
    "lr = 0.01\n",
    "for i in range(1000):\n",
    "    x += grad(A, x, y) * lr\n",
    "print(x)"
   ]
  },
  {
   "cell_type": "code",
   "execution_count": null,
   "id": "cd6bac55",
   "metadata": {},
   "outputs": [],
   "source": []
  }
 ],
 "metadata": {
  "kernelspec": {
   "display_name": "Python 3 (ipykernel)",
   "language": "python",
   "name": "python3"
  },
  "language_info": {
   "codemirror_mode": {
    "name": "ipython",
    "version": 3
   },
   "file_extension": ".py",
   "mimetype": "text/x-python",
   "name": "python",
   "nbconvert_exporter": "python",
   "pygments_lexer": "ipython3",
   "version": "3.8.12"
  }
 },
 "nbformat": 4,
 "nbformat_minor": 5
}
